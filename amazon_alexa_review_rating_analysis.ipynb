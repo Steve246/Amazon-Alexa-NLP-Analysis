{
  "nbformat": 4,
  "nbformat_minor": 0,
  "metadata": {
    "kernelspec": {
      "language": "python",
      "display_name": "Python 3",
      "name": "python3"
    },
    "language_info": {
      "pygments_lexer": "ipython3",
      "nbconvert_exporter": "python",
      "version": "3.6.4",
      "file_extension": ".py",
      "codemirror_mode": {
        "name": "ipython",
        "version": 3
      },
      "name": "python",
      "mimetype": "text/x-python"
    },
    "colab": {
      "name": "amazon-alexa-review-rating-analysis.ipynb",
      "provenance": []
    }
  },
  "cells": [
    {
      "cell_type": "markdown",
      "metadata": {
        "id": "N-NRN767uHMn"
      },
      "source": [
        "Steven Jonathan"
      ]
    },
    {
      "cell_type": "code",
      "metadata": {
        "id": "IgYaG0vjr39g"
      },
      "source": [
        "import pandas as pd"
      ],
      "execution_count": null,
      "outputs": []
    },
    {
      "cell_type": "code",
      "metadata": {
        "execution": {
          "iopub.status.busy": "2021-07-10T16:38:14.376567Z",
          "iopub.execute_input": "2021-07-10T16:38:14.376993Z",
          "iopub.status.idle": "2021-07-10T16:38:14.405594Z",
          "shell.execute_reply.started": "2021-07-10T16:38:14.37695Z",
          "shell.execute_reply": "2021-07-10T16:38:14.404609Z"
        },
        "trusted": true,
        "colab": {
          "base_uri": "https://localhost:8080/"
        },
        "id": "WwrnTdyXrZq3",
        "outputId": "b49b0857-e7c3-4c00-8c26-e1ea7e46d689"
      },
      "source": [
        "fpath = '/content/amazon_alexa.tsv'\n",
        "df = pd.read_csv(fpath,sep='\\t') #read the dataset\n",
        "df.shape"
      ],
      "execution_count": null,
      "outputs": [
        {
          "output_type": "execute_result",
          "data": {
            "text/plain": [
              "(3150, 5)"
            ]
          },
          "metadata": {
            "tags": []
          },
          "execution_count": 4
        }
      ]
    },
    {
      "cell_type": "code",
      "metadata": {
        "execution": {
          "iopub.status.busy": "2021-07-10T16:38:14.407335Z",
          "iopub.execute_input": "2021-07-10T16:38:14.407601Z",
          "iopub.status.idle": "2021-07-10T16:38:14.420246Z",
          "shell.execute_reply.started": "2021-07-10T16:38:14.407576Z",
          "shell.execute_reply": "2021-07-10T16:38:14.419375Z"
        },
        "trusted": true,
        "colab": {
          "base_uri": "https://localhost:8080/",
          "height": 204
        },
        "id": "fRuNj6BcrZq5",
        "outputId": "88c8bbd2-893a-428f-a0d4-996a322f66fe"
      },
      "source": [
        "df.head() #check the dataset"
      ],
      "execution_count": null,
      "outputs": [
        {
          "output_type": "execute_result",
          "data": {
            "text/html": [
              "<div>\n",
              "<style scoped>\n",
              "    .dataframe tbody tr th:only-of-type {\n",
              "        vertical-align: middle;\n",
              "    }\n",
              "\n",
              "    .dataframe tbody tr th {\n",
              "        vertical-align: top;\n",
              "    }\n",
              "\n",
              "    .dataframe thead th {\n",
              "        text-align: right;\n",
              "    }\n",
              "</style>\n",
              "<table border=\"1\" class=\"dataframe\">\n",
              "  <thead>\n",
              "    <tr style=\"text-align: right;\">\n",
              "      <th></th>\n",
              "      <th>rating</th>\n",
              "      <th>date</th>\n",
              "      <th>variation</th>\n",
              "      <th>verified_reviews</th>\n",
              "      <th>feedback</th>\n",
              "    </tr>\n",
              "  </thead>\n",
              "  <tbody>\n",
              "    <tr>\n",
              "      <th>0</th>\n",
              "      <td>5</td>\n",
              "      <td>31-Jul-18</td>\n",
              "      <td>Charcoal Fabric</td>\n",
              "      <td>Love my Echo!</td>\n",
              "      <td>1</td>\n",
              "    </tr>\n",
              "    <tr>\n",
              "      <th>1</th>\n",
              "      <td>5</td>\n",
              "      <td>31-Jul-18</td>\n",
              "      <td>Charcoal Fabric</td>\n",
              "      <td>Loved it!</td>\n",
              "      <td>1</td>\n",
              "    </tr>\n",
              "    <tr>\n",
              "      <th>2</th>\n",
              "      <td>4</td>\n",
              "      <td>31-Jul-18</td>\n",
              "      <td>Walnut Finish</td>\n",
              "      <td>Sometimes while playing a game, you can answer...</td>\n",
              "      <td>1</td>\n",
              "    </tr>\n",
              "    <tr>\n",
              "      <th>3</th>\n",
              "      <td>5</td>\n",
              "      <td>31-Jul-18</td>\n",
              "      <td>Charcoal Fabric</td>\n",
              "      <td>I have had a lot of fun with this thing. My 4 ...</td>\n",
              "      <td>1</td>\n",
              "    </tr>\n",
              "    <tr>\n",
              "      <th>4</th>\n",
              "      <td>5</td>\n",
              "      <td>31-Jul-18</td>\n",
              "      <td>Charcoal Fabric</td>\n",
              "      <td>Music</td>\n",
              "      <td>1</td>\n",
              "    </tr>\n",
              "  </tbody>\n",
              "</table>\n",
              "</div>"
            ],
            "text/plain": [
              "   rating  ... feedback\n",
              "0       5  ...        1\n",
              "1       5  ...        1\n",
              "2       4  ...        1\n",
              "3       5  ...        1\n",
              "4       5  ...        1\n",
              "\n",
              "[5 rows x 5 columns]"
            ]
          },
          "metadata": {
            "tags": []
          },
          "execution_count": 5
        }
      ]
    },
    {
      "cell_type": "code",
      "metadata": {
        "execution": {
          "iopub.status.busy": "2021-07-10T16:38:14.421935Z",
          "iopub.execute_input": "2021-07-10T16:38:14.422341Z",
          "iopub.status.idle": "2021-07-10T16:38:14.433123Z",
          "shell.execute_reply.started": "2021-07-10T16:38:14.422237Z",
          "shell.execute_reply": "2021-07-10T16:38:14.432174Z"
        },
        "trusted": true,
        "id": "6mygpV8NrZq6"
      },
      "source": [
        "df = df.drop(columns=['date', 'variation', 'feedback']) #drop unimportant part of the analysis"
      ],
      "execution_count": null,
      "outputs": []
    },
    {
      "cell_type": "code",
      "metadata": {
        "execution": {
          "iopub.status.busy": "2021-07-10T16:38:14.434561Z",
          "iopub.execute_input": "2021-07-10T16:38:14.435153Z",
          "iopub.status.idle": "2021-07-10T16:38:14.451912Z",
          "shell.execute_reply.started": "2021-07-10T16:38:14.435121Z",
          "shell.execute_reply": "2021-07-10T16:38:14.451002Z"
        },
        "trusted": true,
        "colab": {
          "base_uri": "https://localhost:8080/",
          "height": 204
        },
        "id": "ARfq_DwxrZq7",
        "outputId": "f0d78e27-b644-4876-e51d-2ada44335c4e"
      },
      "source": [
        "columns_titles = [\"verified_reviews\",\"rating\"]\n",
        "df=df.reindex(columns=columns_titles) #switch the rating columns with verified reviews, for better analysis\n",
        "df.head()"
      ],
      "execution_count": null,
      "outputs": [
        {
          "output_type": "execute_result",
          "data": {
            "text/html": [
              "<div>\n",
              "<style scoped>\n",
              "    .dataframe tbody tr th:only-of-type {\n",
              "        vertical-align: middle;\n",
              "    }\n",
              "\n",
              "    .dataframe tbody tr th {\n",
              "        vertical-align: top;\n",
              "    }\n",
              "\n",
              "    .dataframe thead th {\n",
              "        text-align: right;\n",
              "    }\n",
              "</style>\n",
              "<table border=\"1\" class=\"dataframe\">\n",
              "  <thead>\n",
              "    <tr style=\"text-align: right;\">\n",
              "      <th></th>\n",
              "      <th>verified_reviews</th>\n",
              "      <th>rating</th>\n",
              "    </tr>\n",
              "  </thead>\n",
              "  <tbody>\n",
              "    <tr>\n",
              "      <th>0</th>\n",
              "      <td>Love my Echo!</td>\n",
              "      <td>5</td>\n",
              "    </tr>\n",
              "    <tr>\n",
              "      <th>1</th>\n",
              "      <td>Loved it!</td>\n",
              "      <td>5</td>\n",
              "    </tr>\n",
              "    <tr>\n",
              "      <th>2</th>\n",
              "      <td>Sometimes while playing a game, you can answer...</td>\n",
              "      <td>4</td>\n",
              "    </tr>\n",
              "    <tr>\n",
              "      <th>3</th>\n",
              "      <td>I have had a lot of fun with this thing. My 4 ...</td>\n",
              "      <td>5</td>\n",
              "    </tr>\n",
              "    <tr>\n",
              "      <th>4</th>\n",
              "      <td>Music</td>\n",
              "      <td>5</td>\n",
              "    </tr>\n",
              "  </tbody>\n",
              "</table>\n",
              "</div>"
            ],
            "text/plain": [
              "                                    verified_reviews  rating\n",
              "0                                      Love my Echo!       5\n",
              "1                                          Loved it!       5\n",
              "2  Sometimes while playing a game, you can answer...       4\n",
              "3  I have had a lot of fun with this thing. My 4 ...       5\n",
              "4                                              Music       5"
            ]
          },
          "metadata": {
            "tags": []
          },
          "execution_count": 7
        }
      ]
    },
    {
      "cell_type": "code",
      "metadata": {
        "execution": {
          "iopub.status.busy": "2021-07-10T16:38:14.453178Z",
          "iopub.execute_input": "2021-07-10T16:38:14.453818Z",
          "iopub.status.idle": "2021-07-10T16:38:14.473061Z",
          "shell.execute_reply.started": "2021-07-10T16:38:14.453782Z",
          "shell.execute_reply": "2021-07-10T16:38:14.472308Z"
        },
        "trusted": true,
        "colab": {
          "base_uri": "https://localhost:8080/",
          "height": 419
        },
        "id": "7_m0MOigrZq7",
        "outputId": "42c779f5-8b5e-42a3-9a80-d836d06beaa5"
      },
      "source": [
        "rating = pd.get_dummies(df.rating)\n",
        "new_df = pd.concat([df, rating], axis=1)\n",
        "new_df  = new_df.drop(columns='rating')\n",
        "new_df #one-hot-encoding, and created new dataframe"
      ],
      "execution_count": null,
      "outputs": [
        {
          "output_type": "execute_result",
          "data": {
            "text/html": [
              "<div>\n",
              "<style scoped>\n",
              "    .dataframe tbody tr th:only-of-type {\n",
              "        vertical-align: middle;\n",
              "    }\n",
              "\n",
              "    .dataframe tbody tr th {\n",
              "        vertical-align: top;\n",
              "    }\n",
              "\n",
              "    .dataframe thead th {\n",
              "        text-align: right;\n",
              "    }\n",
              "</style>\n",
              "<table border=\"1\" class=\"dataframe\">\n",
              "  <thead>\n",
              "    <tr style=\"text-align: right;\">\n",
              "      <th></th>\n",
              "      <th>verified_reviews</th>\n",
              "      <th>1</th>\n",
              "      <th>2</th>\n",
              "      <th>3</th>\n",
              "      <th>4</th>\n",
              "      <th>5</th>\n",
              "    </tr>\n",
              "  </thead>\n",
              "  <tbody>\n",
              "    <tr>\n",
              "      <th>0</th>\n",
              "      <td>Love my Echo!</td>\n",
              "      <td>0</td>\n",
              "      <td>0</td>\n",
              "      <td>0</td>\n",
              "      <td>0</td>\n",
              "      <td>1</td>\n",
              "    </tr>\n",
              "    <tr>\n",
              "      <th>1</th>\n",
              "      <td>Loved it!</td>\n",
              "      <td>0</td>\n",
              "      <td>0</td>\n",
              "      <td>0</td>\n",
              "      <td>0</td>\n",
              "      <td>1</td>\n",
              "    </tr>\n",
              "    <tr>\n",
              "      <th>2</th>\n",
              "      <td>Sometimes while playing a game, you can answer...</td>\n",
              "      <td>0</td>\n",
              "      <td>0</td>\n",
              "      <td>0</td>\n",
              "      <td>1</td>\n",
              "      <td>0</td>\n",
              "    </tr>\n",
              "    <tr>\n",
              "      <th>3</th>\n",
              "      <td>I have had a lot of fun with this thing. My 4 ...</td>\n",
              "      <td>0</td>\n",
              "      <td>0</td>\n",
              "      <td>0</td>\n",
              "      <td>0</td>\n",
              "      <td>1</td>\n",
              "    </tr>\n",
              "    <tr>\n",
              "      <th>4</th>\n",
              "      <td>Music</td>\n",
              "      <td>0</td>\n",
              "      <td>0</td>\n",
              "      <td>0</td>\n",
              "      <td>0</td>\n",
              "      <td>1</td>\n",
              "    </tr>\n",
              "    <tr>\n",
              "      <th>...</th>\n",
              "      <td>...</td>\n",
              "      <td>...</td>\n",
              "      <td>...</td>\n",
              "      <td>...</td>\n",
              "      <td>...</td>\n",
              "      <td>...</td>\n",
              "    </tr>\n",
              "    <tr>\n",
              "      <th>3145</th>\n",
              "      <td>Perfect for kids, adults and everyone in betwe...</td>\n",
              "      <td>0</td>\n",
              "      <td>0</td>\n",
              "      <td>0</td>\n",
              "      <td>0</td>\n",
              "      <td>1</td>\n",
              "    </tr>\n",
              "    <tr>\n",
              "      <th>3146</th>\n",
              "      <td>Listening to music, searching locations, check...</td>\n",
              "      <td>0</td>\n",
              "      <td>0</td>\n",
              "      <td>0</td>\n",
              "      <td>0</td>\n",
              "      <td>1</td>\n",
              "    </tr>\n",
              "    <tr>\n",
              "      <th>3147</th>\n",
              "      <td>I do love these things, i have them running my...</td>\n",
              "      <td>0</td>\n",
              "      <td>0</td>\n",
              "      <td>0</td>\n",
              "      <td>0</td>\n",
              "      <td>1</td>\n",
              "    </tr>\n",
              "    <tr>\n",
              "      <th>3148</th>\n",
              "      <td>Only complaint I have is that the sound qualit...</td>\n",
              "      <td>0</td>\n",
              "      <td>0</td>\n",
              "      <td>0</td>\n",
              "      <td>0</td>\n",
              "      <td>1</td>\n",
              "    </tr>\n",
              "    <tr>\n",
              "      <th>3149</th>\n",
              "      <td>Good</td>\n",
              "      <td>0</td>\n",
              "      <td>0</td>\n",
              "      <td>0</td>\n",
              "      <td>1</td>\n",
              "      <td>0</td>\n",
              "    </tr>\n",
              "  </tbody>\n",
              "</table>\n",
              "<p>3150 rows × 6 columns</p>\n",
              "</div>"
            ],
            "text/plain": [
              "                                       verified_reviews  1  2  3  4  5\n",
              "0                                         Love my Echo!  0  0  0  0  1\n",
              "1                                             Loved it!  0  0  0  0  1\n",
              "2     Sometimes while playing a game, you can answer...  0  0  0  1  0\n",
              "3     I have had a lot of fun with this thing. My 4 ...  0  0  0  0  1\n",
              "4                                                 Music  0  0  0  0  1\n",
              "...                                                 ... .. .. .. .. ..\n",
              "3145  Perfect for kids, adults and everyone in betwe...  0  0  0  0  1\n",
              "3146  Listening to music, searching locations, check...  0  0  0  0  1\n",
              "3147  I do love these things, i have them running my...  0  0  0  0  1\n",
              "3148  Only complaint I have is that the sound qualit...  0  0  0  0  1\n",
              "3149                                               Good  0  0  0  1  0\n",
              "\n",
              "[3150 rows x 6 columns]"
            ]
          },
          "metadata": {
            "tags": []
          },
          "execution_count": 8
        }
      ]
    },
    {
      "cell_type": "code",
      "metadata": {
        "execution": {
          "iopub.status.busy": "2021-07-10T16:38:14.474024Z",
          "iopub.execute_input": "2021-07-10T16:38:14.474433Z",
          "iopub.status.idle": "2021-07-10T16:38:14.479322Z",
          "shell.execute_reply.started": "2021-07-10T16:38:14.474404Z",
          "shell.execute_reply": "2021-07-10T16:38:14.478277Z"
        },
        "trusted": true,
        "id": "42LwuUy4rZq8"
      },
      "source": [
        "verified_reviews = new_df['verified_reviews'].values\n",
        "label = new_df[[1,2,3,4,5]].values"
      ],
      "execution_count": null,
      "outputs": []
    },
    {
      "cell_type": "code",
      "metadata": {
        "execution": {
          "iopub.status.busy": "2021-07-10T16:38:14.481721Z",
          "iopub.execute_input": "2021-07-10T16:38:14.48217Z",
          "iopub.status.idle": "2021-07-10T16:38:14.494059Z",
          "shell.execute_reply.started": "2021-07-10T16:38:14.482129Z",
          "shell.execute_reply": "2021-07-10T16:38:14.492923Z"
        },
        "trusted": true,
        "id": "nQMXHYtlrZq9"
      },
      "source": [
        "from sklearn.model_selection import train_test_split\n",
        "verified_reviews_train, verified_reviews_test, label_train, label_test = train_test_split(verified_reviews, label, test_size=0.2)"
      ],
      "execution_count": null,
      "outputs": []
    },
    {
      "cell_type": "code",
      "metadata": {
        "execution": {
          "iopub.status.busy": "2021-07-10T16:38:14.495402Z",
          "iopub.execute_input": "2021-07-10T16:38:14.495712Z",
          "iopub.status.idle": "2021-07-10T16:38:14.733372Z",
          "shell.execute_reply.started": "2021-07-10T16:38:14.495685Z",
          "shell.execute_reply": "2021-07-10T16:38:14.732358Z"
        },
        "trusted": true,
        "id": "jJF4RtazrZq9"
      },
      "source": [
        "from tensorflow.keras.preprocessing.text import Tokenizer\n",
        "from tensorflow.keras.preprocessing.sequence import pad_sequences\n",
        " \n",
        "tokenizer = Tokenizer(num_words=5000, oov_token='x')\n",
        "tokenizer.fit_on_texts(verified_reviews_train) \n",
        "tokenizer.fit_on_texts(verified_reviews_test)\n",
        " \n",
        "sekuens_train = tokenizer.texts_to_sequences(verified_reviews_train)\n",
        "sekuens_test = tokenizer.texts_to_sequences(verified_reviews_test)\n",
        " \n",
        "padded_train = pad_sequences(sekuens_train) \n",
        "padded_test = pad_sequences(sekuens_test)"
      ],
      "execution_count": null,
      "outputs": []
    },
    {
      "cell_type": "code",
      "metadata": {
        "execution": {
          "iopub.status.busy": "2021-07-10T16:38:14.73499Z",
          "iopub.execute_input": "2021-07-10T16:38:14.735307Z",
          "iopub.status.idle": "2021-07-10T16:38:15.012537Z",
          "shell.execute_reply.started": "2021-07-10T16:38:14.735279Z",
          "shell.execute_reply": "2021-07-10T16:38:15.011554Z"
        },
        "trusted": true,
        "id": "8ZwbJ_4MrZq-"
      },
      "source": [
        "import tensorflow as tf\n",
        "model = tf.keras.Sequential([\n",
        "    tf.keras.layers.Embedding(input_dim=5000, output_dim=16),\n",
        "    tf.keras.layers.LSTM(64),\n",
        "    tf.keras.layers.Dense(128, activation='relu'),\n",
        "    tf.keras.layers.Dense(64, activation='relu'),\n",
        "    tf.keras.layers.Dense(5, activation='softmax')\n",
        "])\n",
        "model.compile(loss='categorical_crossentropy',optimizer='adam',metrics=['accuracy'])"
      ],
      "execution_count": null,
      "outputs": []
    },
    {
      "cell_type": "code",
      "metadata": {
        "execution": {
          "iopub.status.busy": "2021-07-10T16:38:15.014283Z",
          "iopub.execute_input": "2021-07-10T16:38:15.014573Z",
          "iopub.status.idle": "2021-07-10T16:38:15.020462Z",
          "shell.execute_reply.started": "2021-07-10T16:38:15.014545Z",
          "shell.execute_reply": "2021-07-10T16:38:15.019214Z"
        },
        "trusted": true,
        "id": "1Fiqz-l4rZq-"
      },
      "source": [
        "class myCallback(tf.keras.callbacks.Callback):\n",
        "  def on_epoch_end(self, epoch, logs={}):\n",
        "    if(logs.get('accuracy')>0.9):\n",
        "      print(\"\\nAkurasi telah mencapai >90%!\")\n",
        "      self.model.stop_training = True\n",
        "callbacks = myCallback()"
      ],
      "execution_count": null,
      "outputs": []
    },
    {
      "cell_type": "code",
      "metadata": {
        "execution": {
          "iopub.status.busy": "2021-07-10T16:39:24.377194Z",
          "iopub.execute_input": "2021-07-10T16:39:24.377534Z",
          "iopub.status.idle": "2021-07-10T16:43:10.164633Z",
          "shell.execute_reply.started": "2021-07-10T16:39:24.377505Z",
          "shell.execute_reply": "2021-07-10T16:43:10.163904Z"
        },
        "trusted": true,
        "colab": {
          "base_uri": "https://localhost:8080/"
        },
        "id": "634CBxekrZq-",
        "outputId": "e7bd1fd9-7ceb-419f-9711-4ad05f19bb6d"
      },
      "source": [
        "num_epochs = 30\n",
        "history = model.fit(padded_train, label_train, epochs=num_epochs, validation_data=(padded_test, label_test), callbacks=[callbacks])"
      ],
      "execution_count": null,
      "outputs": [
        {
          "output_type": "stream",
          "text": [
            "Epoch 1/30\n",
            "79/79 [==============================] - 27s 317ms/step - loss: 1.0099 - accuracy: 0.7187 - val_loss: 0.8678 - val_accuracy: 0.7254\n",
            "Epoch 2/30\n",
            "79/79 [==============================] - 25s 311ms/step - loss: 0.7966 - accuracy: 0.7274 - val_loss: 0.7304 - val_accuracy: 0.7397\n",
            "Epoch 3/30\n",
            "79/79 [==============================] - 25s 313ms/step - loss: 0.6336 - accuracy: 0.7579 - val_loss: 0.7901 - val_accuracy: 0.7429\n",
            "Epoch 4/30\n",
            "79/79 [==============================] - 25s 318ms/step - loss: 0.5461 - accuracy: 0.7825 - val_loss: 0.7365 - val_accuracy: 0.7540\n",
            "Epoch 5/30\n",
            "79/79 [==============================] - 25s 319ms/step - loss: 0.4881 - accuracy: 0.8091 - val_loss: 0.7602 - val_accuracy: 0.7651\n",
            "Epoch 6/30\n",
            "79/79 [==============================] - 25s 317ms/step - loss: 0.4175 - accuracy: 0.8373 - val_loss: 0.8343 - val_accuracy: 0.7476\n",
            "Epoch 7/30\n",
            "79/79 [==============================] - 25s 316ms/step - loss: 0.3700 - accuracy: 0.8504 - val_loss: 0.9501 - val_accuracy: 0.7444\n",
            "Epoch 8/30\n",
            "79/79 [==============================] - 25s 317ms/step - loss: 0.3445 - accuracy: 0.8647 - val_loss: 1.0603 - val_accuracy: 0.7206\n",
            "Epoch 9/30\n",
            "79/79 [==============================] - 25s 316ms/step - loss: 0.3162 - accuracy: 0.8762 - val_loss: 1.0642 - val_accuracy: 0.7794\n",
            "Epoch 10/30\n",
            "79/79 [==============================] - 25s 311ms/step - loss: 0.2819 - accuracy: 0.9012 - val_loss: 1.1197 - val_accuracy: 0.7683\n",
            "\n",
            "Akurasi telah mencapai >90%!\n"
          ],
          "name": "stdout"
        }
      ]
    }
  ]
}